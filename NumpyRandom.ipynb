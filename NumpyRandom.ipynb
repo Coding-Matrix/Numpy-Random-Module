{
  "nbformat": 4,
  "nbformat_minor": 0,
  "metadata": {
    "colab": {
      "name": "NumpyRandom.ipynb",
      "provenance": [],
      "authorship_tag": "ABX9TyMJIEjP4ZL96tOcEzz0r1rc",
      "include_colab_link": true
    },
    "kernelspec": {
      "name": "python3",
      "display_name": "Python 3"
    }
  },
  "cells": [
    {
      "cell_type": "markdown",
      "metadata": {
        "id": "view-in-github",
        "colab_type": "text"
      },
      "source": [
        "<a href=\"https://colab.research.google.com/github/Coding-Matrix/Numpy-Random-Module/blob/master/NumpyRandom.ipynb\" target=\"_parent\"><img src=\"https://colab.research.google.com/assets/colab-badge.svg\" alt=\"Open In Colab\"/></a>"
      ]
    },
    {
      "cell_type": "markdown",
      "metadata": {
        "id": "Ca5Fe6h6aTjb",
        "colab_type": "text"
      },
      "source": [
        "#**Numpy Random**"
      ]
    },
    {
      "cell_type": "markdown",
      "metadata": {
        "id": "zScr2e2Nacjj",
        "colab_type": "text"
      },
      "source": [
        "The first thing we need to do is **import numpy**, and we will import it as np"
      ]
    },
    {
      "cell_type": "code",
      "metadata": {
        "id": "RYtJvfhWa2mr",
        "colab_type": "code",
        "colab": {}
      },
      "source": [
        "import numpy as np"
      ],
      "execution_count": 0,
      "outputs": []
    },
    {
      "cell_type": "markdown",
      "metadata": {
        "id": "OxMUaBX4a72U",
        "colab_type": "text"
      },
      "source": [
        "# Creating random numbers\n",
        "Similar to pythons random module, numpy actually has its own sub module for random numbers, this function is called `np.random`. For example if we want to generate some random integers we can use `np.random.randint` which takes in a few arguments to work well. This function takes in a single required argument which is the bottem end for the range of generation, but if the `high` keyword which sets the upper end of the range is set to `None` then the required argument will represent the upper end of the range when generating random numbers. Finally, the size keyword specifies the size of the output array, the first number in this specifies the number of dimensions and the second number represents the number of values contained in each dimension."
      ]
    },
    {
      "cell_type": "code",
      "metadata": {
        "id": "1wP00Eurhr3X",
        "colab_type": "code",
        "outputId": "342e117f-f6ea-4004-9e07-81b26b7172d3",
        "colab": {
          "base_uri": "https://localhost:8080/",
          "height": 51
        }
      },
      "source": [
        "randomarr = np.random.randint(1, high=5, size=(2, 3))\n",
        "print(repr(randomarr))"
      ],
      "execution_count": 0,
      "outputs": [
        {
          "output_type": "stream",
          "text": [
            "array([[3, 1, 2],\n",
            "       [3, 1, 4]])\n"
          ],
          "name": "stdout"
        }
      ]
    },
    {
      "cell_type": "markdown",
      "metadata": {
        "id": "hkmbyPmFp1_q",
        "colab_type": "text"
      },
      "source": [
        "As you can see the output is an array, that has random integers between 1 and 5, and then the output array is 2 dimensions with 3 values in each dimension. Note that no matter how many times you run this cell, the output array will never contain 5, and this is because the upper end of the range is exclusive. Now lets see what the output array looks like if the `high` keyword is set to `None`.\n"
      ]
    },
    {
      "cell_type": "code",
      "metadata": {
        "id": "iIlZnRI-qP3o",
        "colab_type": "code",
        "outputId": "509ef4a6-711d-40db-af62-4aeb082f52f0",
        "colab": {
          "base_uri": "https://localhost:8080/",
          "height": 51
        }
      },
      "source": [
        "randomarr = np.random.randint(5, high=None, size=(2, 3))\n",
        "print(repr(randomarr))"
      ],
      "execution_count": 0,
      "outputs": [
        {
          "output_type": "stream",
          "text": [
            "array([[2, 4, 2],\n",
            "       [1, 1, 3]])\n"
          ],
          "name": "stdout"
        }
      ]
    },
    {
      "cell_type": "markdown",
      "metadata": {
        "id": "T0YsfQU3qeE2",
        "colab_type": "text"
      },
      "source": [
        "Since the `high` keyword argument is set to `None` the required argument then becomes the upper end of the range. This again means that the upper end is exclusive so therefore no matter how many times you run this cell, the output array will never contain 5. Setting `high` to `None` will also automatically set the lower end of the range to 0."
      ]
    },
    {
      "cell_type": "markdown",
      "metadata": {
        "id": "n8UQ-OP8eIzb",
        "colab_type": "text"
      },
      "source": [
        "# Numpy's Utilities"
      ]
    },
    {
      "cell_type": "markdown",
      "metadata": {
        "id": "Sj2sKX6weQ5S",
        "colab_type": "text"
      },
      "source": [
        "There are quite a few utility functions that numpy has, but the most important ones for the `np.random` module is `np.random.seed` and `np.random.shuffle` utilities. These utilities allows us to control the output of the random functions. The `np.random.seed` function is used to set the random seed, this function takes in a single integer as an argument which represents the input for the pseudo random number generator. A pseudo random number is essentially a number that looks to be random, but is actually a computer generated sequence using a specific algorithm. So if the same seed is used again to generate more numbers, then the computer would input that seed number into the exact same algorithm therefore having the same output. Random seeds in numpy are understood better when seen through code."
      ]
    },
    {
      "cell_type": "code",
      "metadata": {
        "id": "jn3WeTdae-Tm",
        "colab_type": "code",
        "colab": {}
      },
      "source": [
        "np.random.seed(1)\n",
        "print(np.random.randint(6))"
      ],
      "execution_count": 0,
      "outputs": []
    },
    {
      "cell_type": "code",
      "metadata": {
        "id": "Tt9trRGNfDvP",
        "colab_type": "code",
        "colab": {}
      },
      "source": [
        "np.random.seed(2)\n",
        "print(np.random.randint(6))"
      ],
      "execution_count": 0,
      "outputs": []
    },
    {
      "cell_type": "code",
      "metadata": {
        "id": "H7xqBR2nfEyk",
        "colab_type": "code",
        "colab": {}
      },
      "source": [
        "np.random.seed(1)\n",
        "print(np.random.randint(6))"
      ],
      "execution_count": 0,
      "outputs": []
    },
    {
      "cell_type": "markdown",
      "metadata": {
        "id": "9tarIg8bfG4e",
        "colab_type": "text"
      },
      "source": [
        "As you can see when the same seed number is inputed into the algorithm, the same output is returned in the print function."
      ]
    },
    {
      "cell_type": "markdown",
      "metadata": {
        "id": "iSyTFCqafQFb",
        "colab_type": "text"
      },
      "source": [
        "# The Shuffle Utility\n",
        "The shuffle utility is very simple to use in numpy. All you need to do is call the function with `np.random.shuffle` and then pass in the array that you want to shuffle. Note that this function only shuffles by rows of the array. Lets see how this function works in code."
      ]
    },
    {
      "cell_type": "code",
      "metadata": {
        "id": "RPCPAjauf8QE",
        "colab_type": "code",
        "colab": {}
      },
      "source": [
        "randomarr = np.random.randint(1, high=7, size=(2, 3))\n",
        "print(repr(randomarr))"
      ],
      "execution_count": 0,
      "outputs": []
    },
    {
      "cell_type": "code",
      "metadata": {
        "id": "YYZtPJKWgO8W",
        "colab_type": "code",
        "colab": {}
      },
      "source": [
        "np.random.shuffle(randomarr)\n",
        "print(repr(randomarr))"
      ],
      "execution_count": 0,
      "outputs": []
    },
    {
      "cell_type": "markdown",
      "metadata": {
        "id": "hPRd7aj7gVao",
        "colab_type": "text"
      },
      "source": [
        "As you can see in the output, the `np.random.shuffle` shuffles the array randomly by rows."
      ]
    }
  ]
}